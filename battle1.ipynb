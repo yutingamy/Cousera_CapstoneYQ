{
    "cells": [
        {
            "cell_type": "markdown",
            "metadata": {
                "collapsed": true
            },
            "source": "# Capstone project-The Battle of Neighborhoods"
        },
        {
            "cell_type": "markdown",
            "metadata": {},
            "source": "## Introduction"
        },
        {
            "cell_type": "markdown",
            "metadata": {},
            "source": "### New York is one of the largest and well-known cities in US and across the world. It has become top choices for local and foreign communities for housing, job employment, education, shopping and tourism. The objective of this report is to study and analyze Queens and Brooklyn neighborhoods of separately and group them into similar clusters and, to analyze those clusters to gather meaningful information. That information can be used to find out similarities and dissimilarities between two boroughs Queens and Brooklyn. Therefore, people can make better decision between the two boroughs on all the great amenities and other types of venues that exist in the neighborhood, such as gourmet fast food joints, pharmacies, parks, graduate schools and so on.\n"
        },
        {
            "cell_type": "markdown",
            "metadata": {},
            "source": "## Data Description"
        },
        {
            "cell_type": "markdown",
            "metadata": {},
            "source": "### To explore neighborhoods of New York, we will download the data from server: https://cocl.us/new_york_dataset. Then transfer the data into pandas frame. Use Geopy to get the latitude and the longitude coordinates of  all the neighborhoods of New York. Map the neighborhoods using Folium. Use Foursquare API to get some information about venues around the neighborhoods. At last, focusing on to find similarities and dissimilarities between two boroughs use machine learning technique, \u201cClustering\u201d to segment the neighborhoods."
        },
        {
            "cell_type": "code",
            "execution_count": null,
            "metadata": {},
            "outputs": [],
            "source": ""
        }
    ],
    "metadata": {
        "kernelspec": {
            "display_name": "Python 3.6",
            "language": "python",
            "name": "python3"
        },
        "language_info": {
            "codemirror_mode": {
                "name": "ipython",
                "version": 3
            },
            "file_extension": ".py",
            "mimetype": "text/x-python",
            "name": "python",
            "nbconvert_exporter": "python",
            "pygments_lexer": "ipython3",
            "version": "3.6.9"
        }
    },
    "nbformat": 4,
    "nbformat_minor": 1
}